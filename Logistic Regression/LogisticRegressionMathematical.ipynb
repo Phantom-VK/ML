{
 "cells": [
  {
   "cell_type": "code",
   "execution_count": 5,
   "id": "62c603da-df19-44d2-b2cf-650723c47195",
   "metadata": {},
   "outputs": [],
   "source": [
    "import numpy as np\n",
    "import pandas as pd\n"
   ]
  },
  {
   "cell_type": "markdown",
   "id": "9af6bebf-ada8-4b9a-a136-822e2a8b4e89",
   "metadata": {},
   "source": [
    "## Create our own dataset\n",
    "from sklearn.datasets import make_classification\n",
    "\n",
    "X, y = make_classification(n_samples=1000, n_classes=2, n_features=10, random_state=42)\n"
   ]
  },
  {
   "cell_type": "code",
   "execution_count": 7,
   "id": "70514313-9def-4a3f-8bd4-58bec7415bf5",
   "metadata": {},
   "outputs": [],
   "source": [
    "data = pd.read_csv(\"document.csv\")\n",
    "# Split Features (X) and Target (Y)\n",
    "X = data.drop(columns=['Outcome']).values\n",
    "Y = data['Outcome'].values\n",
    "\n",
    "# Normalize Data (Min-Max Scaling)\n",
    "X = (X - np.min(X, axis=0)) / (np.max(X, axis=0) - np.min(X, axis=0))\n",
    "\n",
    "# Adding Bias Column (X0 = 1)\n",
    "X = np.c_[np.ones((X.shape[0], 1)), X]"
   ]
  },
  {
   "cell_type": "code",
   "execution_count": 27,
   "id": "137b3f3f-e8f9-4665-88ba-8e72f9ff8650",
   "metadata": {},
   "outputs": [],
   "source": [
    "# Initialize weights with zeros\n",
    "def initialize_weights(n):\n",
    "    return np.zeros((n, 1))\n",
    "\n",
    "theta = initialize_weights(X.shape[1])\n",
    "\n",
    "def compute_cost(X, Y, theta):\n",
    "    m = len(Y)\n",
    "    predictions = sigmoid(np.dot(X, theta))\n",
    "    cost = (-1/m) * np.sum(Y*np.log(predictions) + (1-Y)*np.log(1-predictions))\n",
    "    return cost\n"
   ]
  },
  {
   "cell_type": "code",
   "execution_count": 28,
   "id": "e06caf83-0d0f-4124-9c75-00bff238d656",
   "metadata": {},
   "outputs": [],
   "source": [
    "# Step 2: Sigmoid Function\n",
    "def sigmoid(z):\n",
    "    return 1 / (1 + np.exp(-z))\n",
    "\n",
    "# Step 3: Initialize Parameters\n",
    "def initialize_weights(n):\n",
    "    W = np.zeros(n)\n",
    "    b = 0\n",
    "    return W, b\n",
    "# Step 4: Forward Propagation\n",
    "def forward_propagation(W, b, X):\n",
    "    z = np.dot(X, W) + b\n",
    "    return sigmoid(z)\n",
    "# Step 5: Loss Function\n",
    "def compute_loss(y, y_pred):\n",
    "    m = len(y)\n",
    "    loss = -1/m * np.sum(y*np.log(y_pred) + (1-y)*np.log(1-y_pred))\n",
    "    return loss"
   ]
  },
  {
   "cell_type": "code",
   "execution_count": 29,
   "id": "33aaff91-7919-444a-9eb2-50374bda1b4c",
   "metadata": {},
   "outputs": [],
   "source": [
    "def gradient_descent(X, Y, theta, alpha, iterations):\n",
    "    m = len(Y)\n",
    "    cost_history = []\n",
    "\n",
    "    for i in range(iterations):\n",
    "        predictions = sigmoid(np.dot(X, theta))\n",
    "        gradient = (1/m) * np.dot(X.T, (predictions - Y.reshape(-1, 1)))\n",
    "        theta -= alpha * gradient\n",
    "        \n",
    "        cost = compute_cost(X, Y, theta)\n",
    "        cost_history.append(cost)\n",
    "\n",
    "        if i % 100 == 0:\n",
    "            print(f\"Iteration {i}: Cost = {cost}\")\n",
    "\n",
    "    return theta, cost_history\n"
   ]
  },
  {
   "cell_type": "code",
   "execution_count": 30,
   "id": "0a78e619-40b5-4a1e-9157-f50920ca7b44",
   "metadata": {},
   "outputs": [
    {
     "name": "stdout",
     "output_type": "stream",
     "text": [
      "Iteration 0: Cost = 532.024323860846\n",
      "Iteration 100: Cost = 512.0684364298136\n",
      "Iteration 200: Cost = 504.1869564651397\n",
      "Iteration 300: Cost = 500.8481908192064\n",
      "Iteration 400: Cost = 499.3239515487966\n",
      "Iteration 500: Cost = 498.57797935451765\n",
      "Iteration 600: Cost = 498.192891541839\n",
      "Iteration 700: Cost = 497.98931499555334\n",
      "Iteration 800: Cost = 497.88468297439783\n",
      "Iteration 900: Cost = 497.83830624096265\n"
     ]
    }
   ],
   "source": [
    "alpha = 0.01  # Learning Rate\n",
    "iterations = 1000\n",
    "\n",
    "final_theta, cost_history = gradient_descent(X, Y, theta, alpha, iterations)\n"
   ]
  },
  {
   "cell_type": "code",
   "execution_count": 31,
   "id": "dda0a7fd-5270-41a5-800b-8e8e76f7b950",
   "metadata": {},
   "outputs": [],
   "source": [
    "def predict(X, theta):\n",
    "    return (sigmoid(np.dot(X, theta)) >= 0.5).astype(int)\n"
   ]
  },
  {
   "cell_type": "code",
   "execution_count": 32,
   "id": "690017d1-c885-421b-8773-cdd3ab46d9d2",
   "metadata": {},
   "outputs": [
    {
     "name": "stdout",
     "output_type": "stream",
     "text": [
      "Accuracy: 65.10%\n"
     ]
    }
   ],
   "source": [
    "Y_pred = predict(X, final_theta)\n",
    "\n",
    "accuracy = np.mean(Y_pred.flatten() == Y) * 100\n",
    "print(f\"Accuracy: {accuracy:.2f}%\")\n"
   ]
  },
  {
   "cell_type": "code",
   "execution_count": 33,
   "id": "20653559-85c6-4c3b-9292-a9aac7aa27df",
   "metadata": {},
   "outputs": [
    {
     "name": "stdout",
     "output_type": "stream",
     "text": [
      "Accuracy    : 65.10%\n",
      "Precision   : 0.0000\n",
      "Recall      : 0.0000\n",
      "F1-Score    : 0.0000\n"
     ]
    },
    {
     "data": {
      "text/plain": [
       "(np.float64(0.6510416666666666), 0, np.float64(0.0), 0)"
      ]
     },
     "execution_count": 33,
     "metadata": {},
     "output_type": "execute_result"
    }
   ],
   "source": [
    "def confusion_matrix(Y_true, Y_pred):\n",
    "    TP = np.sum((Y_true == 1) & (Y_pred == 1))\n",
    "    TN = np.sum((Y_true == 0) & (Y_pred == 0))\n",
    "    FP = np.sum((Y_true == 0) & (Y_pred == 1))\n",
    "    FN = np.sum((Y_true == 1) & (Y_pred == 0))\n",
    "\n",
    "    return TP, TN, FP, FN\n",
    "\n",
    "def calculate_metrics(Y_true, Y_pred):\n",
    "    TP, TN, FP, FN = confusion_matrix(Y_true, Y_pred)\n",
    "\n",
    "    accuracy = (TP + TN) / (TP + TN + FP + FN)\n",
    "    precision = TP / (TP + FP) if (TP + FP) != 0 else 0\n",
    "    recall = TP / (TP + FN) if (TP + FN) != 0 else 0\n",
    "    f1_score = 2 * (precision * recall) / (precision + recall) if (precision + recall) != 0 else 0\n",
    "\n",
    "    print(f\"Accuracy    : {accuracy * 100:.2f}%\")\n",
    "    print(f\"Precision   : {precision:.4f}\")\n",
    "    print(f\"Recall      : {recall:.4f}\")\n",
    "    print(f\"F1-Score    : {f1_score:.4f}\")\n",
    "    \n",
    "    return accuracy, precision, recall, f1_score\n",
    "\n",
    "# Call Function\n",
    "calculate_metrics(Y, Y_pred)\n"
   ]
  },
  {
   "cell_type": "code",
   "execution_count": 34,
   "id": "54271cd5-2cf4-423f-b577-256f2f8e8818",
   "metadata": {},
   "outputs": [
    {
     "data": {
      "image/png": "[encoded data removed]",
      "text/plain": [
       "<Figure size 640x480 with 1 Axes>"
      ]
     },
     "metadata": {},
     "output_type": "display_data"
    }
   ],
   "source": [
    "import matplotlib.pyplot as plt\n",
    "\n",
    "plt.plot(cost_history)\n",
    "plt.xlabel(\"Iterations\")\n",
    "plt.ylabel(\"Cost\")\n",
    "plt.title(\"Cost Function Convergence\")\n",
    "plt.show()\n"
   ]
  }
 ],
 "metadata": {
  "kernelspec": {
   "display_name": "Python 3 (ipykernel)",
   "language": "python",
   "name": "python3"
  },
  "language_info": {
   "codemirror_mode": {
    "name": "ipython",
    "version": 3
   },
   "file_extension": ".py",
   "mimetype": "text/x-python",
   "name": "python",
   "nbconvert_exporter": "python",
   "pygments_lexer": "ipython3",
   "version": "3.9.19"
  }
 },
 "nbformat": 4,
 "nbformat_minor": 5
}
